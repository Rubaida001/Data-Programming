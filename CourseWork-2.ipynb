{
 "cells": [
  {
   "cell_type": "markdown",
   "metadata": {},
   "source": [
    "# 1. Introduction\n",
    "<p>In this assignment, I have used H1B visa application dataset. H1B visa is a non-immigrant temporary work visa that lets people with special skills to work in USA. To apply for this visa, the applicant must have a job offer from an employer in the USA. The employer then files H1B visa petition with the US Immigration Service (USCIS) for the employee with relevant attestations, including attestations about wages and working conditions. After the approval from USCIS, this petition allows employee to obtain a visa stamp and work in the U.S. for that employer. I have chosen this dataset to discover the influence of attributes of user applicant on visa status. My goal is to develop an algorithm that can predict the petition outcome based on application information.</p>\n",
    "\n",
    "<p>Since, I am planning to forecast the visa petition status, the outcome of the analysis is divided into two classes (Denied or Certified). Considering it as a binary classification problem, I have applied multiple model on this dataset. The report initially represents the analysis of available dataset by plotting relationship bettewn various attributes. In the   next   sections, the following  have  been  described  in  brief: data  processing, feature  selection,  implement of different  classification  models  on  the  available  data  and  its evaluation.</p>"
   ]
  },
  {
   "cell_type": "markdown",
   "metadata": {},
   "source": [
    "# 2. Data Set and Features\n",
    "\n",
    "The dataset comes from kaggle repository. It contains H-1B visa petition information from 2011-2016. It includes 10 columns with approximately 3 million rows. Here is the list of all columns:\n",
    "<ol>\n",
    "<li>**CASE_STATUS:**</li> this feature defines the final decision of application. It is divided into seven classes, CERTIFIED, CERTIFIED-WITHDRAWN, WITHDRAWN, DENIED, PENDING QUALITY AND COMPLIANCE REVIEW – UNASSIGNED, REJECTED, INVALIDATED. \n",
    "<li>**EMPLOYER_NAME:**</li> represents the company name who files the petition to recruit employee. \n",
    "<li>**SOC_NAME:**</li> states occupational name that is classified by the Standard Occupational Classification (SOC) System.\n",
    "<li>**JOB_TITLE:**</li> Title of the job.\n",
    "<li>**FULL_TIME_POSITION:**</li> represents job status where, Y= full time and N=part time.\n",
    "<li>**PREVAILING_WAGE:**</li> defines the average wage paid to similarly employed workers in the requested occupation in the area of intended employment\n",
    "<li>**YEAR:**</li> Year in which the visa petition filed\n",
    "<li>**WORKSITE:**</li> The employee’s intended area of employment.\n",
    "<li>**LON:**</li> longitude of the worksite.\n",
    "<li>**LAT:**</li> latitude of the worksite.\n",
    "</ol>"
   ]
  },
  {
   "cell_type": "code",
   "execution_count": 1,
   "metadata": {},
   "outputs": [],
   "source": [
    "#import all the libraries \n",
    "from sklearn.model_selection import train_test_split \n",
    "from sklearn.linear_model import LogisticRegression\n",
    "import matplotlib.pyplot as plt\n",
    "import pandas      as pd\n",
    "import numpy       as np\n",
    "import seaborn as sns\n",
    "import re\n",
    "import scipy.stats as stats\n",
    "import statsmodels.api as sm\n",
    "import statsmodels.formula.api as smf "
   ]
  },
  {
   "cell_type": "code",
   "execution_count": 2,
   "metadata": {},
   "outputs": [
    {
     "name": "stderr",
     "output_type": "stream",
     "text": [
      "C:\\Users\\eruba\\Anaconda3\\lib\\site-packages\\numpy\\lib\\arraysetops.py:472: FutureWarning: elementwise comparison failed; returning scalar instead, but in the future will perform elementwise comparison\n",
      "  mask |= (ar1 == a)\n"
     ]
    }
   ],
   "source": [
    "#read the csv.file\n",
    "data = pd.read_csv(\"h1b_kaggle.csv\",index_col=0)"
   ]
  },
  {
   "cell_type": "code",
   "execution_count": 3,
   "metadata": {},
   "outputs": [
    {
     "name": "stdout",
     "output_type": "stream",
     "text": [
      "No of rows and columns:  (3002458, 10)\n",
      "\n",
      " Total no of entry in each column: \n",
      " CASE_STATUS           3002445\n",
      "EMPLOYER_NAME         3002399\n",
      "SOC_NAME              2984724\n",
      "JOB_TITLE             3002415\n",
      "FULL_TIME_POSITION    3002443\n",
      "PREVAILING_WAGE       3002373\n",
      "YEAR                  3002445\n",
      "WORKSITE              3002458\n",
      "lon                   2895216\n",
      "lat                   2895216\n",
      "dtype: int64\n",
      "<class 'pandas.core.frame.DataFrame'>\n",
      "Int64Index: 3002458 entries, 1 to 3002458\n",
      "Data columns (total 10 columns):\n",
      "CASE_STATUS           object\n",
      "EMPLOYER_NAME         object\n",
      "SOC_NAME              object\n",
      "JOB_TITLE             object\n",
      "FULL_TIME_POSITION    object\n",
      "PREVAILING_WAGE       float64\n",
      "YEAR                  float64\n",
      "WORKSITE              object\n",
      "lon                   float64\n",
      "lat                   float64\n",
      "dtypes: float64(4), object(6)\n",
      "memory usage: 252.0+ MB\n",
      "Types of Data:\n",
      " None\n"
     ]
    }
   ],
   "source": [
    "#no of rows and columns in dataset\n",
    "print('No of rows and columns: ',data.shape)\n",
    "print('\\n Total no of entry in each column: \\n', data.count())\n",
    "print('Types of Data:\\n',data.info())\n",
    "\n",
    "#made a deep copy of dataset\n",
    "cdf = data.copy()"
   ]
  },
  {
   "cell_type": "markdown",
   "metadata": {},
   "source": [
    "## 2.1 Data Exploration\n",
    "After loading the dataset, it is important to explore it to see the structure and format of all variables or features. In this dataset, 6 variables are float and 4 variables are in object format. With the help of graphical representation, I am going to check the status of each variable. \n",
    "<p>**Missing Values:** From the following list and the heatmap, it is quiet clear that variable _lon_ and _lat_ has the highest number of missing values. *SOC_NAME* has the second most number of missing values. These values will be taken care of in data cleaning section.</p>"
   ]
  },
  {
   "cell_type": "code",
   "execution_count": 4,
   "metadata": {},
   "outputs": [
    {
     "name": "stdout",
     "output_type": "stream",
     "text": [
      "CASE_STATUS               13\n",
      "EMPLOYER_NAME             59\n",
      "SOC_NAME               17734\n",
      "JOB_TITLE                 43\n",
      "FULL_TIME_POSITION        15\n",
      "PREVAILING_WAGE           85\n",
      "YEAR                      13\n",
      "WORKSITE                   0\n",
      "lon                   107242\n",
      "lat                   107242\n",
      "dtype: int64\n"
     ]
    },
    {
     "data": {
      "text/plain": [
       "<matplotlib.axes._subplots.AxesSubplot at 0x2bf381879e8>"
      ]
     },
     "execution_count": 4,
     "metadata": {},
     "output_type": "execute_result"
    },
    {
     "data": {
      "image/png": "[encoded data removed]",
      "text/plain": [
       "<Figure size 432x288 with 1 Axes>"
      ]
     },
     "metadata": {},
     "output_type": "display_data"
    }
   ],
   "source": [
    "print(cdf.isnull().sum())\n",
    "sns.heatmap(cdf.isnull(), cbar=False)"
   ]
  },
  {
   "cell_type": "markdown",
   "metadata": {},
   "source": [
    "<p>**CASE_STATUS:** The frequency of result for the number of petition filed over the year is represented by a bar chart. The chart shows that number of certified visa status is way more than denied status. Number of withdrawl cases after certification is also huge. Whereas, *Pending*, *Rejection* and *Invalid* cases are quite low. As I will only classify between certified and denial cases, I will convert the categories into either denied or certified. </p>\n",
    "\n",
    "<p>Since, *Rejection* and *Invalid* are both cases of a denied visa, I convert those case status to *Denied*. *Pending* is most likely to be rejected in case of US visa, so it should be changed to *Denied* as well. *Certified Withdrawn* decision is made by USCIS but then the employer or the applicant change it. That’s why, I merged it with *Certified* label. I removed data with *Withdrawn* label as it has no influence on USCIS’s decision. Finally the target variable have only 2 classes i.e. *Certified* and *Denied*. It is highly imbalanced dataset where number of *Denied* class is very low.</p>"
   ]
  },
  {
   "cell_type": "code",
   "execution_count": 5,
   "metadata": {},
   "outputs": [
    {
     "data": {
      "text/plain": [
       "CERTIFIED                                             2615623\n",
       "CERTIFIED-WITHDRAWN                                    202659\n",
       "DENIED                                                  94346\n",
       "WITHDRAWN                                               89799\n",
       "PENDING QUALITY AND COMPLIANCE REVIEW - UNASSIGNED         15\n",
       "REJECTED                                                    2\n",
       "INVALIDATED                                                 1\n",
       "Name: CASE_STATUS, dtype: int64"
      ]
     },
     "execution_count": 5,
     "metadata": {},
     "output_type": "execute_result"
    }
   ],
   "source": [
    "cdf.CASE_STATUS.value_counts()"
   ]
  },
  {
   "cell_type": "code",
   "execution_count": 6,
   "metadata": {},
   "outputs": [],
   "source": [
    "case_status = {\n",
    "   'CASE_STATUS': {\n",
    "      r'(PENDING QUALITY AND COMPLIANCE REVIEW - UNASSIGNED|REJECTED|INVALIDATED)':'DENIED',\n",
    "      r'CERTIFIED-WITHDRAWN': 'CERTIFIED'}\n",
    "}\n",
    "cdf.replace(case_status, regex=True, inplace=True)\n",
    "\n",
    "# drop rows with 'WITHDRAWN' value \n",
    "indexNames = cdf[cdf['CASE_STATUS']=='WITHDRAWN'].index\n",
    "cdf.drop(indexNames , inplace=True)"
   ]
  },
  {
   "cell_type": "code",
   "execution_count": 7,
   "metadata": {},
   "outputs": [
    {
     "data": {
      "image/png": "[encoded data removed]",
      "text/plain": [
       "<Figure size 720x576 with 2 Axes>"
      ]
     },
     "metadata": {},
     "output_type": "display_data"
    }
   ],
   "source": [
    "plt.figure(figsize=(10,8))\n",
    "plt.subplot(1, 2, 1)\n",
    "data['CASE_STATUS'].value_counts().plot(kind='bar',title='Frequency of Visa Petition Case(with all status)')\n",
    "plt.subplot(1, 2, 2)\n",
    "cdf['CASE_STATUS'].value_counts().plot(kind='bar',title='Frequency of Visa Petition Case(Only CERTIFIED and DENIED)')\n",
    "plt.tight_layout()\n",
    "plt.show()"
   ]
  },
  {
   "cell_type": "markdown",
   "metadata": {},
   "source": [
    "**EMPLOYER_NAME and SOC_NAME:** In *EMPLOYER_NAME* column, number of unique value is 234089 and top company is Infosys Limited. Top five companies that file the most visa petition case is IT related according to following bar chart. \n",
    "<p> The number of unique value for *SOC_NAME* is also huge. The chart below displays that *Computer Analysts* is the top most job position for which people are recruited. </p>"
   ]
  },
  {
   "cell_type": "code",
   "execution_count": 8,
   "metadata": {},
   "outputs": [
    {
     "name": "stdout",
     "output_type": "stream",
     "text": [
      "Summary of EMPLOYER_NAME column:  count             2912628\n",
      "unique             234089\n",
      "top       INFOSYS LIMITED\n",
      "freq               130317\n",
      "Name: EMPLOYER_NAME, dtype: object\n",
      "Summary of SOC_NAME column: :  count                       2895573\n",
      "unique                         2108\n",
      "top       Computer Systems Analysts\n",
      "freq                         284987\n",
      "Name: SOC_NAME, dtype: object\n"
     ]
    }
   ],
   "source": [
    "print('Summary of EMPLOYER_NAME column: ',cdf.EMPLOYER_NAME.describe())\n",
    "print('Summary of SOC_NAME column: : ',cdf.SOC_NAME.describe())"
   ]
  },
  {
   "cell_type": "code",
   "execution_count": 9,
   "metadata": {},
   "outputs": [
    {
     "data": {
      "image/png": "[encoded data removed]",
      "text/plain": [
       "<Figure size 720x360 with 2 Axes>"
      ]
     },
     "metadata": {},
     "output_type": "display_data"
    }
   ],
   "source": [
    "plt.figure(figsize=(10,5))\n",
    "plt.subplot(1, 2, 1)\n",
    "cdf.EMPLOYER_NAME.value_counts().head(5).plot(kind='bar',title='Top 5 Company')\n",
    "plt.subplot(1, 2, 2)\n",
    "cdf.SOC_NAME.value_counts().head(5).plot(kind='bar',title='Top 5 Job Position')\n",
    "plt.tight_layout()\n",
    "plt.show()"
   ]
  },
  {
   "cell_type": "markdown",
   "metadata": {},
   "source": [
    "**PREVAILING_WAGE:** In *PREVAILING_WAGE* column, minimum salary is 0.0 where, maximum is 6000 million. Median value is 65000.0 but mean is 142891. It can be seen that there is extrem difference between the minimum and maximum value. So, it is clear that multiple outliers exist in the dataset. From the box plot of 500 rows of data, it shows the existence of outlier. Interestingly, in case_status vs wage plot, more outlier is identified in denial cases."
   ]
  },
  {
   "cell_type": "code",
   "execution_count": 12,
   "metadata": {},
   "outputs": [
    {
     "name": "stdout",
     "output_type": "stream",
     "text": [
      "Median:  65000.0\n",
      "Mean:  142891.0350401751\n"
     ]
    },
    {
     "data": {
      "text/plain": [
       "count    2.912593e+06\n",
       "mean     1.428910e+05\n",
       "std      5.282312e+06\n",
       "min      0.000000e+00\n",
       "25%      5.441300e+04\n",
       "50%      6.500000e+04\n",
       "75%      8.143200e+04\n",
       "max      6.997607e+09\n",
       "Name: PREVAILING_WAGE, dtype: float64"
      ]
     },
     "execution_count": 12,
     "metadata": {},
     "output_type": "execute_result"
    }
   ],
   "source": [
    "print('Median: ',np.nanmedian(cdf.PREVAILING_WAGE))\n",
    "print('Mean: ',np.nanmean(cdf.PREVAILING_WAGE))\n",
    "\n",
    "cdf.PREVAILING_WAGE.describe()"
   ]
  },
  {
   "cell_type": "code",
   "execution_count": 13,
   "metadata": {},
   "outputs": [
    {
     "name": "stderr",
     "output_type": "stream",
     "text": [
      "C:\\Users\\eruba\\Anaconda3\\lib\\site-packages\\matplotlib\\figure.py:459: UserWarning: matplotlib is currently using a non-GUI backend, so cannot show the figure\n",
      "  \"matplotlib is currently using a non-GUI backend, \"\n"
     ]
    },
    {
     "data": {
      "text/plain": [
       "<Figure size 720x576 with 0 Axes>"
      ]
     },
     "metadata": {},
     "output_type": "display_data"
    },
    {
     "data": {
      "image/png": "[encoded data removed]",
      "text/plain": [
       "<Figure size 432x288 with 2 Axes>"
      ]
     },
     "metadata": {},
     "output_type": "display_data"
    }
   ],
   "source": [
    "plt.figure(figsize=(10,8))\n",
    "fig, ax =plt.subplots(1,2)\n",
    "sns.boxplot(x=data.PREVAILING_WAGE.head(500),ax=ax[0])\n",
    "sns.boxplot(x=\"CASE_STATUS\", y=\"PREVAILING_WAGE\", data=cdf.head(100),palette=\"Blues\",ax=ax[1])\n",
    "plt.tight_layout()\n",
    "fig.show()"
   ]
  },
  {
   "cell_type": "markdown",
   "metadata": {},
   "source": [
    "In following density plot, it shows the trend of wage pattern over the year from 2011-2016. All the patterns are right skewed and indicate a number of outliers."
   ]
  },
  {
   "cell_type": "code",
   "execution_count": 14,
   "metadata": {},
   "outputs": [
    {
     "name": "stderr",
     "output_type": "stream",
     "text": [
      "C:\\Users\\eruba\\Anaconda3\\lib\\site-packages\\statsmodels\\nonparametric\\kde.py:448: RuntimeWarning: invalid value encountered in greater\n",
      "  X = X[np.logical_and(X > clip[0], X < clip[1])] # won't work for two columns.\n",
      "C:\\Users\\eruba\\Anaconda3\\lib\\site-packages\\statsmodels\\nonparametric\\kde.py:448: RuntimeWarning: invalid value encountered in less\n",
      "  X = X[np.logical_and(X > clip[0], X < clip[1])] # won't work for two columns.\n"
     ]
    },
    {
     "data": {
      "text/plain": [
       "(0, 500000000)"
      ]
     },
     "execution_count": 14,
     "metadata": {},
     "output_type": "execute_result"
    },
    {
     "data": {
      "image/png": "[encoded data removed]",
      "text/plain": [
       "<Figure size 432x288 with 1 Axes>"
      ]
     },
     "metadata": {},
     "output_type": "display_data"
    }
   ],
   "source": [
    "years = [2011, 2012, 2013,2014,2015,2016]\n",
    "\n",
    "# Iterate through the five airlines\n",
    "for year in years:\n",
    "    # Subset to the airline\n",
    "    subset = data[data['YEAR'] == year]\n",
    "    # Draw the density plot\n",
    "    sns.distplot(subset['PREVAILING_WAGE'], hist = False, kde = True,\n",
    "                 kde_kws = {'linewidth': 1},\n",
    "                 label = year)    \n",
    "# Plot formatting\n",
    "plt.legend(prop={'size': 10}, title = 'Wage Trend')\n",
    "plt.title('Density Plot with Wage')\n",
    "plt.xlabel('Wage')\n",
    "plt.ylabel('Density')\n",
    "plt.xlim(0,500000000)"
   ]
  },
  {
   "cell_type": "markdown",
   "metadata": {},
   "source": [
    "**WORKSITE:** In this column, total unique city is 18189. New York is the top city from where most of the visa petition has been filed. "
   ]
  },
  {
   "cell_type": "code",
   "execution_count": 15,
   "metadata": {},
   "outputs": [
    {
     "data": {
      "text/plain": [
       "count                2912659\n",
       "unique                 18189\n",
       "top       NEW YORK, NEW YORK\n",
       "freq                  185817\n",
       "Name: WORKSITE, dtype: object"
      ]
     },
     "execution_count": 15,
     "metadata": {},
     "output_type": "execute_result"
    }
   ],
   "source": [
    "cdf.WORKSITE.describe()"
   ]
  },
  {
   "cell_type": "code",
   "execution_count": 16,
   "metadata": {},
   "outputs": [
    {
     "data": {
      "text/plain": [
       "<matplotlib.axes._subplots.AxesSubplot at 0x2bf06063710>"
      ]
     },
     "execution_count": 16,
     "metadata": {},
     "output_type": "execute_result"
    },
    {
     "data": {
      "image/png": "[encoded data removed]",
      "text/plain": [
       "<Figure size 432x288 with 1 Axes>"
      ]
     },
     "metadata": {},
     "output_type": "display_data"
    }
   ],
   "source": [
    "cdf.WORKSITE.value_counts().head(5).plot(kind='bar',title='Top 5 City with Most Working Position')"
   ]
  },
  {
   "cell_type": "markdown",
   "metadata": {},
   "source": [
    "## 2.2 Data Preprocessing\n",
    "- **Missing Value Handling:** From previous section, it is clear that *lon* and *lat* variable has the most missing values. These two variables indicate the location of employer. As I am going to use *WORKSITE* variable for this purpose, I will drop these columns. Moreover, *JOB_TITLE* and *SOC_NAME* are both indicated the job title which can be represented by any of these columns. That's why I have removed the *JOB_TITLE* column as well. After that, if there is any row with NAN value, I am going to drop them as well."
   ]
  },
  {
   "cell_type": "code",
   "execution_count": 17,
   "metadata": {},
   "outputs": [],
   "source": [
    "#drop JOB_TITLE, lattitude and longitutde\n",
    "cdf.drop('JOB_TITLE',inplace=True,axis=1)\n",
    "cdf.drop('lon',inplace=True,axis=1)\n",
    "cdf.drop('lat',inplace=True,axis=1)"
   ]
  },
  {
   "cell_type": "code",
   "execution_count": 18,
   "metadata": {},
   "outputs": [],
   "source": [
    "cdf.dropna(inplace=True)"
   ]
  },
  {
   "cell_type": "markdown",
   "metadata": {},
   "source": [
    "- **Imbanalnced Class:** In this dataset, the target(*CASE_STATUS*) variable have 2818282 *Certified* and 94364 *Denied* cases which makes this dataset highly imbalanced. It can influence the classification task. To make it balance, I have downsampled the *Certified* cases to the count of the *Denied* cases. "
   ]
  },
  {
   "cell_type": "code",
   "execution_count": 19,
   "metadata": {},
   "outputs": [
    {
     "name": "stdout",
     "output_type": "stream",
     "text": [
      "Random under-sampling:\n",
      "CERTIFIED    2801722\n",
      "DENIED         93782\n",
      "Name: CASE_STATUS, dtype: int64\n"
     ]
    }
   ],
   "source": [
    "#Down sampling\n",
    "class_certified, class_denied = cdf.CASE_STATUS.value_counts()\n",
    "# Divide by class\n",
    "cdf_class_c = cdf[cdf.CASE_STATUS=='CERTIFIED']\n",
    "cdf_class_d = cdf[cdf.CASE_STATUS=='DENIED']\n",
    "\n",
    "seed=7\n",
    "cdf_class_c_under =cdf_class_c.sample(class_denied,random_state=seed)\n",
    "cdf_down = pd.concat([cdf_class_c_under, cdf_class_d], axis=0)\n",
    "\n",
    "print('Random under-sampling:')\n",
    "print(cdf.CASE_STATUS.value_counts())"
   ]
  },
  {
   "cell_type": "code",
   "execution_count": 20,
   "metadata": {},
   "outputs": [
    {
     "data": {
      "image/png": "[encoded data removed]",
      "text/plain": [
       "<Figure size 720x360 with 2 Axes>"
      ]
     },
     "metadata": {},
     "output_type": "display_data"
    }
   ],
   "source": [
    "#Graph before after down sampling\n",
    "plt.figure(figsize=(10,5))\n",
    "plt.subplot(1, 2, 1)\n",
    "cdf['CASE_STATUS'].value_counts().plot(kind='bar', title='Count(CASE_STATUS)- Before Downsample');\n",
    "plt.subplot(1, 2, 2)\n",
    "cdf_down.CASE_STATUS.value_counts().plot(kind='bar', title='Count(CASE_STATUS)-After Downsample');\n",
    "plt.tight_layout()\n",
    "plt.show()"
   ]
  },
  {
   "cell_type": "markdown",
   "metadata": {},
   "source": [
    "- **Outlier:** I have checked *PREVAILING_WAGE* if there was any outliers affecting the dataset. In most of the cases, petitions have a wage in the range between 40k and 80k US Dollars. There are certain petitions with wages of more than 500k, and some with 0 dollars. Since these are very extreme cases, they should be treated as outliers. I have used IQR test to find the outlier that is if data point is above the third quartile or below the first quartile it should be removed. Finally, I have replaced the NA value with mean."
   ]
  },
  {
   "cell_type": "code",
   "execution_count": 21,
   "metadata": {},
   "outputs": [
    {
     "name": "stdout",
     "output_type": "stream",
     "text": [
      "No of outliers:  9696\n"
     ]
    }
   ],
   "source": [
    "## Feature: Wage\n",
    "#detect outlier in PREVAILING_WAGE\n",
    "q1 = cdf_down[\"PREVAILING_WAGE\"].quantile(0.25)\n",
    "q3 = cdf_down[\"PREVAILING_WAGE\"].quantile(0.75)\n",
    "IQR = q3 - q1\n",
    "outliers = ((cdf_down[\"PREVAILING_WAGE\"] < (q1 - 1.5 * IQR)) | (cdf_down[\"PREVAILING_WAGE\"] > (q3 + 1.5 * IQR))).sum()\n",
    "print('No of outliers: ', outliers)"
   ]
  },
  {
   "cell_type": "code",
   "execution_count": 22,
   "metadata": {},
   "outputs": [],
   "source": [
    "# drop outlier \n",
    "cdf_down = cdf_down.drop(cdf_down[cdf_down.PREVAILING_WAGE < (q1 - 1.5 * IQR)].index)\n",
    "cdf_down = cdf_down.drop(cdf_down[cdf_down.PREVAILING_WAGE > (q1 + 1.5 * IQR)].index)"
   ]
  },
  {
   "cell_type": "markdown",
   "metadata": {},
   "source": [
    "After capping the wages with second quartile and third quartile, the mean and median are very similar. The following density plot shows a better distribution of data than without outlier."
   ]
  },
  {
   "cell_type": "code",
   "execution_count": 24,
   "metadata": {},
   "outputs": [
    {
     "name": "stderr",
     "output_type": "stream",
     "text": [
      "C:\\Users\\eruba\\Anaconda3\\lib\\site-packages\\matplotlib\\figure.py:459: UserWarning: matplotlib is currently using a non-GUI backend, so cannot show the figure\n",
      "  \"matplotlib is currently using a non-GUI backend, \"\n"
     ]
    },
    {
     "data": {
      "text/plain": [
       "<Figure size 720x576 with 0 Axes>"
      ]
     },
     "metadata": {},
     "output_type": "display_data"
    },
    {
     "data": {
      "image/png": "[encoded data removed]",
      "text/plain": [
       "<Figure size 432x288 with 2 Axes>"
      ]
     },
     "metadata": {},
     "output_type": "display_data"
    }
   ],
   "source": [
    "#plot density of PREVAILING_WAGE\n",
    "plt.figure(figsize=(10,8))\n",
    "fig, ax =plt.subplots(2,1)\n",
    "plt.title('Distribution of PREVAILING_WAGE with and without outlier')\n",
    "sns.distplot(cdf['PREVAILING_WAGE'], hist=False,kde=True,color='darkblue',kde_kws={'linewidth':4},ax=ax[0])\n",
    "sns.distplot(cdf_down['PREVAILING_WAGE'], hist=False,kde=True,color='darkblue',kde_kws={'linewidth':4},ax=ax[1])\n",
    "plt.tight_layout()\n",
    "fig.show()"
   ]
  },
  {
   "cell_type": "markdown",
   "metadata": {},
   "source": [
    "- **Data Cleaning and Filtering:** In *EMPLOYER_NAME* column, there are lot of unique employers. I removed the special characters and lowercase the name to uniform the format and enforce consistency. Inspite of that, it has got more than 500 categories. So I removed those employe name who filed less than 4 applications. \n"
   ]
  },
  {
   "cell_type": "code",
   "execution_count": 25,
   "metadata": {},
   "outputs": [],
   "source": [
    "\n",
    "cdf_down.EMPLOYER_NAME = cdf_down.EMPLOYER_NAME.str.lower()\n",
    "emp_name = {\n",
    "   'EMPLOYER_NAME': {\n",
    "      r\"[.\\-,);\\\"'(+/]|(&QUOT;)\":'', \n",
    "      r'ltd':'limited',\n",
    "      r'(&amp;)|&':'and',r'(.*gates corporation.*$)':'gates corporation',\n",
    "      r'corp$':'corporation',\n",
    "      r'^europeanamerican':'european american',\n",
    "      r'(.*euromarket designs inc.*$)':'euro market designs inc',\n",
    "      r'(.*eurofins lancaster laboratories*$)':'eurofins lancaster laboratories inc',\n",
    "      r'^eurocolletion|^eurocollection':'euro collection',\n",
    "      r'^technosoft':'techno soft',\n",
    "      r'^healthcare':'health care',\n",
    "      r'^healthplan':'health plan',\n",
    "      r'warner university inc':'warner university',\n",
    "      r'grouppc$':'group pc',\n",
    "      r'americasinc$':'americas inc'}\n",
    "}\n",
    "\n",
    "cdf_down.replace(emp_name, regex=True, inplace=True)\n"
   ]
  },
  {
   "cell_type": "code",
   "execution_count": 26,
   "metadata": {},
   "outputs": [],
   "source": [
    "#Remove rows of the employers with less than 4 application  \n",
    "cdf_dict = cdf_down.EMPLOYER_NAME.value_counts().to_dict()\n",
    "emp_list = [k for k,v in cdf_dict.items() if v<=4]\n",
    "len(emp_list)\n",
    "cdf_down = cdf_down[~cdf_down.EMPLOYER_NAME.isin(emp_list)]"
   ]
  },
  {
   "cell_type": "markdown",
   "metadata": {},
   "source": [
    "- <p>There are also many unique values in *SOC_NAME* column. I did the same special characters removal as *EMPLOYER_NAME*. I have created a dictionary to find out the data that are belonged to specific occupation section. I have created 13 categories for this purpose. Then put the values in **Other** category that have application number less than 5.\n",
    "    </p>"
   ]
  },
  {
   "cell_type": "code",
   "execution_count": 33,
   "metadata": {},
   "outputs": [],
   "source": [
    "# Feature 3: SOC_NAME\n",
    "#remove special characters to uniform format\n",
    "cdf_down['SOC_NAME']=cdf_down['SOC_NAME'].str.lower()\n",
    "soc = {\n",
    "   'SOC_NAME': {\n",
    "      r\"[*.\\-,);\\\"'(+/]|<font>|</font>|(^[0-9]$)\":'', r'&amp|&':' and ',\n",
    "      r'^compute|^computer|^copmuter|^computers|^comuter|^compuer':'computer',\n",
    "      r'induatrial':'industrial',\n",
    "      r'engineers|enginers|engineering|engineerarquitects|enigneers|engineerarchitect':'engineer',\n",
    "      r'analysta|analystt|analyhsts|analys$|anlysts':'analyst',\n",
    "      r'sofware|softare|softwware':'software',\n",
    "      r'^all other|all other$|other$|all othter$':'',\n",
    "      r'systemanalyst':'system analyst',\n",
    "      r'hardward':'hardware',\n",
    "      r'aplications|applications|appllications|applicationsssss':'application',\n",
    "      r'dvelopers|developers|developpers': 'developer',\n",
    "      r'datebase':'database',\n",
    "      r'maanger|mangers|managerse|managers':'manager', \n",
    "      r'sysems|systems':'system', \n",
    "      r'technicans|technicians':'technician',\n",
    "      r'deisgners|designers':'designer',\n",
    "      r'operations':'operation', \n",
    "      r'except computer non|except computer|except compuer':'', \n",
    "      r'software application developer|application developer':'software developer application'}                    \n",
    "}\n",
    "\n",
    "cdf_down.replace(soc, regex=True, inplace=True)\n",
    "cdf_down=cdf_down[~cdf_down['SOC_NAME'].str.contains('^[0-9]*$',na=False)]"
   ]
  },
  {
   "cell_type": "code",
   "execution_count": 34,
   "metadata": {},
   "outputs": [],
   "source": [
    "#Create dictionary to put the different job title in specific profession section\n",
    "job_sector = {\n",
    "   'SOC_NAME': {\n",
    "      r\".*agricultural(?s).*|.*maids(?s).*|.*cleaner(?s).*|.*bakers(?s).*|.*bartenders(?s).*|.*chefs(?s).*|.*butchers(?s).*|.*meat(?s).*|dishwashers|^laundry(?s).*|^funeral(?s).*|.*janitor(?s).*|^housekeeping(?s).*|^cook(?s).*|.*food(?s).*\":'Food & Service', \n",
    "      r'^computer(?s).*|^information security(?s).*|^web developer(?s).*|^database(?s).*|^data warehousing(?s).*|^graphic(?s).*|^network and computer(?s).*|.*network system(?s).*|^software(?s).*|^information technology(?s).*':'IT Profession',\n",
    "      r\".*mathematician(?s).*|.*statisticians(?s).*|statistican|biostatisticians\":'Mathematician',  \n",
    "      r'.*survey(?s).*|.*school(?s).*|.*secondary school(?s).*|.*elementary school(?s).*|.*teachers(?s).*|.*postsecondary(?s).*|.*educators(?s).*|.*research assistants(?s).*|.*education(?s).*|.*translators(?s).*|.*training(?s).*|.*instructors(?s).*|.*instructional coordinators(?s).*':'Teaching',\n",
    "      r'.*physician assistants(?s).*|.*orthodontists(?s).*|.*optometrists(?s).*|.*epidemiologists(?s).*|.*anesthesiologists(?s).*|.*rehabilitation(?s).*|.*dietitians(?s).*|.*nutritionists(?s).*|.*gynecologists(?s).*|.*mental(?s).*|.*health(?s).*|^biochemists(?s).*|^healthcare(?s).*|^health diagnosing(?s).*|.*pediatricians(?s).*|.*surgeons(?s).*|.*physical(?s).*|physicists|.*medical(?s).*|.*nurses(?s).*|.*pathologists(?s).*|.*practitioners$|.*psychiatrists(?s).*|veterinarians|pharmacists|^radiologists(?s).*|.*therapists(?s).*|neurologists|.*dentists(?s).*':'Medical',  \n",
    "      r'.*loan(?s).*|.*property(?s).*|.*credit analysts(?s).*|.*financial(?s).*|^budget(?s).*|.*bill(?s).*|.*account(?s).*|.*accountants(?s).*|economists|^cost(?s).*|^statistical assistants(?s).*|^business operation specialists(?s).*|.*fiancial(?s).*':'Finance',\n",
    "      r'.*aircraft(?s).*|.*operating engineer(?s).*|.*structural(?s).*|.*engineer(?s).*|.*electrical(?s).*|.*electronics(?s).*|.*designer(?s).*|.*architect(?s).*':'Architecture & Engineering',   \n",
    "      r'.*biologist(?s).*|.*astronomers(?s).*|.*microbiologists(?s).*|.*biophysicist(?s).*|.*scienctists(?s).*|.*scientists(?s).*|chemists|^biological scientists $|^biomedical(?s).*':'Advance Science',\n",
    "      r'.*manager(?s).*|operations research analysts|.*management(?s).*|chief executives|public relations specialists|logisticians|administrative services manager|.*planners(?s).*|human resources specialists|lodging manager|engineer manager':'Management',\n",
    "      r'.*market(?s).*|.*marketing(?s).*|.*wholesale(?s).*|^sales(?s).*|^advertising(?s).*|compliance officers|.*salespersons$':'Marketing',\n",
    "      r'.*judicial(?s).*|.*police(?s).*|.*law(?s).*|lawyers|.*judges(?s).*|.*attorney(?s).*|.*paralegals(?s).*|.*legal(?s).*':'Lawyer',\n",
    "      r'.*technician(?s).*|.*operators(?s).*|.*technologists(?s).*':'Technician',\n",
    "      r'.*audio(?s).*|.*photo(?s).*|.*recreation(?s).*|.*artists(?s).*|.*auditors(?s).*|.*athletic(?s).*|.*video(?s).*|.*writers(?s).*|.*music(?s).*|.*models(?s).*|composers|.*media(?s).*|singers|.*dancers(?s).*|poets and lyricists|coaches and scouts|.*sport(?s).*|.*fashion(?s).*|^media and communication workers$|^multimedia artists and animators|editors|^set designer$|^producers and directors$|^art directors$|^designer$|^reporters and correspondents$|.*entertainment(?s).*':'Fashion & Entertainment',\n",
    "   } \n",
    "}\n",
    "cdf_down.replace(job_sector, regex=True, inplace=True)"
   ]
  },
  {
   "cell_type": "code",
   "execution_count": 35,
   "metadata": {
    "scrolled": true
   },
   "outputs": [],
   "source": [
    "cdf_dict=cdf_down['SOC_NAME'].value_counts().to_dict()\n",
    "soc_list = [k for k,v in cdf_dict.items() if v<=5]\n",
    "len(soc_list)\n",
    "cdf_down.SOC_NAME = np.where(cdf_down['SOC_NAME'].isin(soc_list), 'Others', cdf_down.SOC_NAME)"
   ]
  },
  {
   "cell_type": "markdown",
   "metadata": {},
   "source": [
    "- *WORKSITE* represents employee’s intended area of employment. I split this column and consider city name only."
   ]
  },
  {
   "cell_type": "code",
   "execution_count": 36,
   "metadata": {},
   "outputs": [],
   "source": [
    "# Feature 8: WORKSITE\n",
    "#select state as employer location\n",
    "cdf_down['WORKSITE']=cdf_down['WORKSITE'].str.split(',',1).str[1].str.lower()\n"
   ]
  },
  {
   "cell_type": "markdown",
   "metadata": {},
   "source": [
    "- **Convert Categorical Data:** These are the columns we now have in our dataset:\n",
    "- Ordinal Values\n",
    "    - PREVAILING_WAGE    \n",
    "- Nominal Values:\n",
    "    - CASE_STATUS\n",
    "    - FULL_TIME_POSITION\n",
    "    - EMPLOYER_NAME    \n",
    "    - WORKSITE\n",
    "<p>As *PREVAILING_WAGE* has huge number of unique values, I have divided it into three categories. The distribution is projected in following table:\n",
    "    \n",
    "                    |  **Range**    | **Category** |\n",
    "                    |:-------------:|:------------:|\n",
    "                    |    <30000     |      Low     |\n",
    "                    | 30000>60000   |    Medium    |\n",
    "                    |    60000>     |     High     |\n",
    "    \n",
    "    </p>\n",
    "The conversion of other colums are shown in the table below:\n",
    "\n",
    "                |       Column       |       Conversion      |\n",
    "                |:------------------:|:---------------------:|\n",
    "                |     CASE_STATUS    | CERTIFIED=1, DENIED=0 |\n",
    "                | FULL_TIME_POSITION |        Y=1, N=0       |\n",
    "                |    EMPLOYER_NAME   |       Dummy Data      |\n",
    "                |      WORKSITE      |       Dummy Data      |\n",
    "\n",
    "As four columns of dataset are in object format, I have changed them into category type to fit into the model."
   ]
  },
  {
   "cell_type": "code",
   "execution_count": 37,
   "metadata": {},
   "outputs": [
    {
     "data": {
      "text/plain": [
       "640853     1\n",
       "2205622    1\n",
       "1702811    1\n",
       "2848815    1\n",
       "2614021    1\n",
       "1617940    1\n",
       "1941563    1\n",
       "1473363    1\n",
       "2555302    1\n",
       "1760714    1\n",
       "1975732    1\n",
       "2529891    1\n",
       "2807155    1\n",
       "404481     1\n",
       "285377     1\n",
       "750377     1\n",
       "1496115    1\n",
       "1128489    1\n",
       "1915805    1\n",
       "1682969    1\n",
       "2908138    1\n",
       "1347191    1\n",
       "955454     1\n",
       "1460034    1\n",
       "659669     1\n",
       "1335880    1\n",
       "2170024    1\n",
       "2762586    1\n",
       "1793193    1\n",
       "2631966    1\n",
       "          ..\n",
       "3001840    0\n",
       "3001956    0\n",
       "3001959    0\n",
       "3002005    0\n",
       "3002009    0\n",
       "3002047    0\n",
       "3002059    0\n",
       "3002101    0\n",
       "3002117    0\n",
       "3002201    0\n",
       "3002227    0\n",
       "3002257    0\n",
       "3002262    0\n",
       "3002291    0\n",
       "3002292    0\n",
       "3002298    0\n",
       "3002309    0\n",
       "3002315    0\n",
       "3002321    0\n",
       "3002324    0\n",
       "3002328    0\n",
       "3002331    0\n",
       "3002337    0\n",
       "3002347    0\n",
       "3002348    0\n",
       "3002354    0\n",
       "3002355    0\n",
       "3002357    0\n",
       "3002365    0\n",
       "3002368    0\n",
       "Name: CASE_STATUS, Length: 83935, dtype: int32"
      ]
     },
     "execution_count": 37,
     "metadata": {},
     "output_type": "execute_result"
    }
   ],
   "source": [
    "#replace 'CERTIFIED' and 'DENIED' label of 'CASE_STATUS' respectively with '1' and '0'\n",
    "cdf_down['CASE_STATUS'] = cdf_down['CASE_STATUS'].replace({'CERTIFIED': 1,'DENIED':0})\n",
    "cdf_down.CASE_STATUS.astype(int)"
   ]
  },
  {
   "cell_type": "code",
   "execution_count": 38,
   "metadata": {},
   "outputs": [],
   "source": [
    "#replace into 'low', 'medium' and 'high'\n",
    "cdf_down['PREVAILING_WAGE'] = np.where((cdf_down['PREVAILING_WAGE'] > 0) & (cdf_down['PREVAILING_WAGE']<= 30000), 'low', np.where((cdf_down['PREVAILING_WAGE'] > 30000) & (cdf_down['PREVAILING_WAGE']<= 60000), 'medium', 'high'))"
   ]
  },
  {
   "cell_type": "code",
   "execution_count": 39,
   "metadata": {},
   "outputs": [
    {
     "data": {
      "text/plain": [
       "640853     0\n",
       "2205622    1\n",
       "1702811    1\n",
       "2848815    1\n",
       "2614021    1\n",
       "1617940    1\n",
       "1941563    1\n",
       "1473363    1\n",
       "2555302    1\n",
       "1760714    1\n",
       "1975732    1\n",
       "2529891    1\n",
       "2807155    1\n",
       "404481     1\n",
       "285377     0\n",
       "750377     1\n",
       "1496115    1\n",
       "1128489    1\n",
       "1915805    1\n",
       "1682969    1\n",
       "2908138    1\n",
       "1347191    1\n",
       "955454     1\n",
       "1460034    1\n",
       "659669     1\n",
       "1335880    1\n",
       "2170024    1\n",
       "2762586    1\n",
       "1793193    1\n",
       "2631966    1\n",
       "          ..\n",
       "3001840    1\n",
       "3001956    1\n",
       "3001959    1\n",
       "3002005    1\n",
       "3002009    1\n",
       "3002047    1\n",
       "3002059    1\n",
       "3002101    1\n",
       "3002117    1\n",
       "3002201    1\n",
       "3002227    1\n",
       "3002257    1\n",
       "3002262    1\n",
       "3002291    1\n",
       "3002292    0\n",
       "3002298    1\n",
       "3002309    0\n",
       "3002315    1\n",
       "3002321    1\n",
       "3002324    1\n",
       "3002328    1\n",
       "3002331    1\n",
       "3002337    1\n",
       "3002347    1\n",
       "3002348    1\n",
       "3002354    1\n",
       "3002355    1\n",
       "3002357    1\n",
       "3002365    1\n",
       "3002368    1\n",
       "Name: FULL_TIME_POSITION, Length: 83935, dtype: int32"
      ]
     },
     "execution_count": 39,
     "metadata": {},
     "output_type": "execute_result"
    }
   ],
   "source": [
    "# Feature 5: FULL_TIME_POSITION\n",
    "#replace 'Y' and 'N' label of 'FULL_TIME_POSITION' respectively with '1' and '0'\n",
    "cdf_down['FULL_TIME_POSITION']=cdf_down['FULL_TIME_POSITION'].replace({'Y': 1, 'N': 0})\n",
    "cdf_down.FULL_TIME_POSITION.astype(int)"
   ]
  },
  {
   "cell_type": "code",
   "execution_count": 41,
   "metadata": {},
   "outputs": [],
   "source": [
    "type(cdf_down)\n",
    "cdf_down[['EMPLOYER_NAME','SOC_NAME','WORKSITE','YEAR']] = cdf_down[['EMPLOYER_NAME','SOC_NAME','WORKSITE','YEAR']].apply(lambda x: x.astype('category'))\n"
   ]
  },
  {
   "cell_type": "markdown",
   "metadata": {},
   "source": [
    "- **One Hot Encoding:** There are five categorical columns in this dataset after different conversion. I am using get_dummies() function to change the categorical data into numerical one. This pattern is also known as one hot encoding. "
   ]
  },
  {
   "cell_type": "code",
   "execution_count": 42,
   "metadata": {},
   "outputs": [],
   "source": [
    "categorical_col=['PREVAILING_WAGE','EMPLOYER_NAME','SOC_NAME','WORKSITE','YEAR']\n",
    "dummy_df = pd.get_dummies(cdf_down[categorical_col])\n",
    "cdf_down =pd.concat([cdf_down,dummy_df],axis=1)\n",
    "cdf_down =cdf_down.drop(categorical_col,axis=1)"
   ]
  },
  {
   "cell_type": "markdown",
   "metadata": {},
   "source": [
    "After cleaning and converting all the columns in the dataset, it shows that the missing value is zero and the data ready for training."
   ]
  },
  {
   "cell_type": "code",
   "execution_count": 43,
   "metadata": {},
   "outputs": [
    {
     "ename": "AttributeError",
     "evalue": "'function' object has no attribute 'sum'",
     "output_type": "error",
     "traceback": [
      "\u001b[1;31m---------------------------------------------------------------------------\u001b[0m",
      "\u001b[1;31mAttributeError\u001b[0m                            Traceback (most recent call last)",
      "\u001b[1;32m<ipython-input-43-35fb6861b566>\u001b[0m in \u001b[0;36m<module>\u001b[1;34m()\u001b[0m\n\u001b[0;32m      1\u001b[0m \u001b[1;31m#no of missing value\u001b[0m\u001b[1;33m\u001b[0m\u001b[1;33m\u001b[0m\u001b[0m\n\u001b[1;32m----> 2\u001b[1;33m \u001b[0mcdf_down\u001b[0m\u001b[1;33m.\u001b[0m\u001b[0misnull\u001b[0m\u001b[1;33m.\u001b[0m\u001b[0msum\u001b[0m\u001b[1;33m(\u001b[0m\u001b[1;33m)\u001b[0m\u001b[1;33m\u001b[0m\u001b[0m\n\u001b[0m",
      "\u001b[1;31mAttributeError\u001b[0m: 'function' object has no attribute 'sum'"
     ]
    }
   ],
   "source": [
    "#no of missing value\n",
    "cdf_down.isnull.sum()"
   ]
  },
  {
   "cell_type": "code",
   "execution_count": null,
   "metadata": {},
   "outputs": [],
   "source": [
    "cdf_down.info()"
   ]
  },
  {
   "cell_type": "markdown",
   "metadata": {},
   "source": [
    "# 3. Model\n",
    "In this classification task, I am going to apply multiple method to find out the better one. I have used these three models here:\n",
    " <ol>\n",
    "    <li>Logistic Regression </li>\n",
    "    <li>Decision Tree </li>\n",
    "    <li>Random Forest </li>\n",
    "    </ol>\n",
    "For this purpose, I split the dataset into two different portions: train set and test set. I will fit the model on train set. Then, evaluate it on the test set to find out the accuracy of the model. I have used 30% of total dataset as test set and 70% for training the model. I will use multiple model evaluation metrics to compare the result."
   ]
  },
  {
   "cell_type": "code",
   "execution_count": 48,
   "metadata": {},
   "outputs": [
    {
     "name": "stdout",
     "output_type": "stream",
     "text": [
      "(58754, 4439) (58754,)\n",
      "(25181, 4439) (25181,)\n"
     ]
    }
   ],
   "source": [
    "x = cdf_down.drop('CASE_STATUS', axis=1)\n",
    "y = cdf_down.CASE_STATUS\n",
    "\n",
    "seed = 7\n",
    "x_train, x_test, y_train, y_test = train_test_split(x, y, test_size=0.3, random_state=seed)\n",
    "print(x_train.shape,y_train.shape)\n",
    "print(x_test.shape,y_test.shape)"
   ]
  },
  {
   "cell_type": "code",
   "execution_count": 49,
   "metadata": {},
   "outputs": [],
   "source": [
    "from sklearn.metrics import roc_curve\n",
    "from sklearn.metrics import auc\n",
    "def roc_curve_graph(x_test,y_test,model):\n",
    "    preds = model. predict_proba(x_test) [:,1]\n",
    "    #Compute Receiver operating characteristic (ROC) curve\n",
    "    fpr, tpr, threshold = roc_curve(y_test, preds)\n",
    "    #ROC Score\n",
    "    roc_auc = auc(fpr, tpr)\n",
    "    plt.title('Receiver Operating Characteristic (ROC)')\n",
    "    plt.plot(fpr, tpr, 'b', label = 'AUC = %0.2f' % roc_auc)\n",
    "    plt.legend(loc = 'lower right')\n",
    "    plt.plot([0, 1], [0, 1],'r--')\n",
    "    plt.xlim([0, 1])\n",
    "    plt.ylim([0, 1])\n",
    "    plt.ylabel('True Positive Rate')\n",
    "    plt.xlabel('False Positive Rate')\n",
    "    plt.show()"
   ]
  },
  {
   "cell_type": "code",
   "execution_count": 50,
   "metadata": {},
   "outputs": [],
   "source": [
    "def metrics_cal(x_test,y_test,prediction,model):    \n",
    "    print(\"Model Accuracy:\",metrics.accuracy_score(y_test, prediction))\n",
    "    probs = model.predict_proba(x_test)\n",
    "    roc_auc = metrics.roc_auc_score(y_test, probs[:,1]) \n",
    "    print(\"ROC:\",roc_auc)\n",
    "    print(\"Confusion Matrix:\",metrics.confusion_matrix(y_test, prediction)) \n",
    "    print(\"Classification Report:\", metrics.classification_report(y_test, prediction))  \n",
    "    print(\"precision:\",metrics.precision_score(y_test, prediction, pos_label=1))  \n",
    "    print(\"Recall:\",metrics.recall_score(y_test, prediction, pos_label=1))  \n",
    "    print(\"F1 Score:\",metrics.f1_score(y_test, prediction, pos_label=1))\n"
   ]
  },
  {
   "cell_type": "code",
   "execution_count": 51,
   "metadata": {},
   "outputs": [],
   "source": [
    "from sklearn import metrics\n",
    "\n",
    "def train_test_acc(model,x_train,y_train,x_test,y_test):\n",
    "    print('Accuracy on training set: {:.2f}'\n",
    "     .format(model.score(x_train, y_train)))\n",
    "    print('Accuracy on test set: {:.2f}'\n",
    "     .format(model.score(x_test, y_test)))\n",
    "    "
   ]
  },
  {
   "cell_type": "markdown",
   "metadata": {},
   "source": [
    "### 3.1 Logistic Regression\n",
    "Logistic Regression is a Machine Learning classification algorithm that is used to predict the probability of a categorical dependent variable. In this task, CASE_STATUS is the dependable variable which will be predicted by logistic regression. I have used LogisticRegression() library to build the model on train set.\n",
    "- **Result:** The accuracy of the model is: **75%**\n",
    "- The **confusion matrix** depicts that we have 3100+15878 = **18978** correct predictions and 4742+ 1461= **6203** incorrect predictions.\n",
    "- The **precision** is: **77%**\n",
    "- The **recall** is : **92%**\n",
    "- The **F-Score** score is: **0.84** which is close to 1. It indicates a good model. \n",
    "- The support is the number of occurrences of each class in y_test which is: **25181**.\n",
    "- ROC is a probability curve and AUC represents degree or measure of separability. It tells how much model is capable of distinguishing between classes. In this model **Area Under the Curve** is **0.77** which is pretty good. **ROC-curve** shows that the model is better at distinguishing between petition with denied and certified status."
   ]
  },
  {
   "cell_type": "code",
   "execution_count": 52,
   "metadata": {},
   "outputs": [
    {
     "data": {
      "text/plain": [
       "LogisticRegression(C=1.0, class_weight=None, dual=False, fit_intercept=True,\n",
       "          intercept_scaling=1, max_iter=100, multi_class='ovr', n_jobs=1,\n",
       "          penalty='l2', random_state=None, solver='liblinear', tol=0.0001,\n",
       "          verbose=0, warm_start=False)"
      ]
     },
     "execution_count": 52,
     "metadata": {},
     "output_type": "execute_result"
    }
   ],
   "source": [
    "#Train Model\n",
    "logit=LogisticRegression()\n",
    "logit.fit(x_train,y_train)\n"
   ]
  },
  {
   "cell_type": "code",
   "execution_count": 53,
   "metadata": {},
   "outputs": [],
   "source": [
    "#Test Model\n",
    "prediction=logit.predict(x_test)"
   ]
  },
  {
   "cell_type": "code",
   "execution_count": 54,
   "metadata": {},
   "outputs": [
    {
     "name": "stdout",
     "output_type": "stream",
     "text": [
      "Accuracy on training set: 0.79\n",
      "Accuracy on test set: 0.75\n",
      "Model Accuracy: 0.7536634764306421\n",
      "ROC: 0.7683170430466209\n",
      "Confusion Matrix: [[ 3100  4742]\n",
      " [ 1461 15878]]\n",
      "Classification Report:              precision    recall  f1-score   support\n",
      "\n",
      "          0       0.68      0.40      0.50      7842\n",
      "          1       0.77      0.92      0.84     17339\n",
      "\n",
      "avg / total       0.74      0.75      0.73     25181\n",
      "\n",
      "precision: 0.7700290979631426\n",
      "Recall: 0.9157390852990368\n",
      "F1 Score: 0.8365868436997812\n"
     ]
    },
    {
     "data": {
      "image/png": "[encoded data removed]",
      "text/plain": [
       "<Figure size 432x288 with 1 Axes>"
      ]
     },
     "metadata": {},
     "output_type": "display_data"
    }
   ],
   "source": [
    "#Train-Test Accuracy\n",
    "train_test_acc(logit,x_train,y_train,x_test,y_test)\n",
    "\n",
    "#Metrics Calculation\n",
    "metrics_cal(x_test,y_test,prediction,logit)\n",
    "\n",
    "#ROC Curve create\n",
    "roc_curve_graph(x_test,y_test,logit)\n"
   ]
  },
  {
   "cell_type": "markdown",
   "metadata": {},
   "source": [
    "### 3.2 Decision Tree\n",
    "In this model, the data is split into smaller subsets based on the best attribute. It uses branching method to create a branch for every possible decision. I have used DecisionTreeClassifier() library to build this model on train set. \n",
    "\n",
    "- **Result:** The **accuracy** of the model is: **74%** that is releatively low from previous model.\n",
    "- The **confusion matrix** depicts that we have 3996+14572 = **18568** correct predictions and 3846+ 2767= **6612** incorrect predictions.\n",
    "- The **precision** is: **79%**\n",
    "- The **recall** is : **84%**\n",
    "- The **F-beta** score is: **82%** shows an indication of better model.\n",
    "- The support is the number of occurrences of each class in y_test which is: **25181**.\n",
    "- In this model **Area Under the Curve** is **0.68** which is not so good. **ROC-curve** also shows that the area under the curve is small. That means model could not perform well to classify the data."
   ]
  },
  {
   "cell_type": "code",
   "execution_count": 55,
   "metadata": {},
   "outputs": [],
   "source": [
    "from sklearn.tree import DecisionTreeClassifier\n",
    "# Train Decision Tree Classifer\n",
    "dt_clf = DecisionTreeClassifier().fit(x_train, y_train)\n",
    "\n",
    "#Predict the response for test dataset\n",
    "y_pred = dt_clf.predict(x_test)\n"
   ]
  },
  {
   "cell_type": "code",
   "execution_count": 56,
   "metadata": {},
   "outputs": [
    {
     "name": "stdout",
     "output_type": "stream",
     "text": [
      "Accuracy on training set: 0.92\n",
      "Accuracy on test set: 0.74\n",
      "Model Accuracy: 0.7374607839243874\n",
      "ROC: 0.6830338549934656\n",
      "Confusion Matrix: [[ 4014  3828]\n",
      " [ 2783 14556]]\n",
      "Classification Report:              precision    recall  f1-score   support\n",
      "\n",
      "          0       0.59      0.51      0.55      7842\n",
      "          1       0.79      0.84      0.81     17339\n",
      "\n",
      "avg / total       0.73      0.74      0.73     25181\n",
      "\n",
      "precision: 0.79177545691906\n",
      "Recall: 0.8394947805525117\n",
      "F1 Score: 0.8149371553340985\n"
     ]
    },
    {
     "data": {
      "image/png": "[encoded data removed]",
      "text/plain": [
       "<Figure size 432x288 with 1 Axes>"
      ]
     },
     "metadata": {},
     "output_type": "display_data"
    }
   ],
   "source": [
    "#### Train-Test Accuracy\n",
    "train_test_acc(dt_clf,x_train,y_train,x_test,y_test)\n",
    "\n",
    "#Metrics Calculation\n",
    "metrics_cal(x_test,y_test,y_pred,dt_clf)\n",
    "\n",
    "#ROC Curve create\n",
    "roc_curve_graph(x_test,y_test,dt_clf)\n"
   ]
  },
  {
   "cell_type": "markdown",
   "metadata": {},
   "source": [
    "### 3.3 Random Forest\n",
    "Random  Forest is an ensemble learning method for classification. It selects random sample from given dataset to construct individual decision tree for each sample. Then, it predicts the result for each decision tree and perform a voiting. Prediction result with most votes is counted as the final result. Using RandomForestClassifier() library, I have applied this model on H1B dataset.\n",
    "\n",
    "- **Result:** The **accuracy** of the model is: **74%** \n",
    "- The **confusion matrix** depicts that we have 3721+15036 = **18757** correct predictions and 4121+ 2303= **6424** incorrect predictions.\n",
    "- The **precision** is: **78%**\n",
    "- The **recall** is : **86%**\n",
    "- The **F1-Score** score is: **0.82**\n",
    "- The support is the number of occurrences of each class in y_test which is: **25181**.\n",
    "- ROC is a probability curve and AUC represents degree or measure of separability. It tells how much model is capable of distinguishing between classes. In this model **Area Under the Curve** is **0.74** which is relatively better than decision tree model. **ROC-curve** shows similar indication. "
   ]
  },
  {
   "cell_type": "code",
   "execution_count": null,
   "metadata": {},
   "outputs": [],
   "source": [
    "#Import Random Forest Model\n",
    "from sklearn.ensemble import RandomForestClassifier\n",
    "\n",
    "# Train Random Forest Classifer\n",
    "rf_model = RandomForestClassifier().fit(x_train, y_train)  \n",
    "\n",
    "#Predict the response for test dataset\n",
    "y_pred=rf_model.predict(x_test)"
   ]
  },
  {
   "cell_type": "code",
   "execution_count": null,
   "metadata": {},
   "outputs": [],
   "source": [
    "#Train-Test Accuracy\n",
    "train_test_acc(rf_model,x_train,y_train,x_test,y_test)\n",
    "\n",
    "#Metrics Calculation\n",
    "metrics_cal(x_test,y_test,y_pred,rf_model)\n",
    "\n",
    "#ROC Curve create\n",
    "roc_curve_graph(x_test,y_test,rf_model)\n"
   ]
  },
  {
   "cell_type": "markdown",
   "metadata": {},
   "source": [
    "# 4. Result\n",
    "In this section all the findings created by the above model has been accumulated. I have considered following metrics to evaluate the accuracy of model:\n",
    "- Model Evaluation Metrics:\n",
    "<ol>\n",
    "    <li>**F1 Score:** The F1 score can be interpreted as a weighted harmonic mean of the precision and recall, where an F1 score reaches its best value at 1 and worst score at 0. </li>\n",
    "    <li>**Precision:** The precision is the ratio tp / (tp + fp) where tp is the number of true positives and fp the number of false positives. The precision is intuitively the ability of the classifier to not label a sample as positive if it is negative. </li>\n",
    "    <li>**Recall:** The recall is the ratio tp / (tp + fn) where tp is the number of true positives and fn the number of false negatives. The recall is intuitively the ability of the classifier to find all the positive samples. </li>\n",
    "    <li>**ROC Curve:** ROC curves typically feature true positive rate on the Y axis, and false positive rate on the X axis. This means that the top left corner of the plot is the ideal point where false positive rate is zero, and true positive rate is one. It means that a larger area under the curve (AUC) is usually better.\n",
    " </li>\n",
    "    </ol>\n",
    "\n",
    "<p> The following table shows the result for each model that has been applied to classify the data. According to this chart, the ** best accuracy is 75% by logistic regression model** and other two models have the same accuracy 74%. Among three models, decision tree and random forest perform quite similarly. If I consider the ROC curve to justify the model accuracy, decision tree has the worst prediction capacity. Other than that, F1 score, ROC value, Precision and Recall all these metrics indicate that logistic regression outperfoms other models.  \n",
    "</p>\n",
    "\n",
    "\n",
    "<img src=\"ResultTable.png\" alt=\"Drawing\" style=\"width: 800px;\"/> \n",
    "                   **Fig1: Evaluation table of three models**"
   ]
  },
  {
   "cell_type": "markdown",
   "metadata": {},
   "source": [
    "# 5. Conclusion and Future Work\n",
    "To build a model, it is very important to extract information from dataset as much as possible. It was really time consuming to process this huge dataset like H1B. Though I have applied three models on this dataset, there is a lot of scope to improve it. \n",
    " - Initially I down sampled the dataset to create the balance in target class. It is possible to do oversampling on this dataset. It may add more information to improve the model accuracy.\n",
    " - I have tried only three models in this case. In future, it is possible to apply K-Nearest Neighbour, Linear Discriminant Analysis and Neural Network on this dataset for better prediction.\n",
    " - It is a large dataset with huge number of category in each column. So, it is possible to add  feature selection algorithm to reduce this feature. "
   ]
  },
  {
   "cell_type": "markdown",
   "metadata": {},
   "source": [
    "# 6. Reference\n",
    "1. https://www.irjet.net/archives/V5/i8/IRJET-V5I859.pdf\n",
    "2. http://cs229.stanford.edu/proj2017/final-reports/5208701.pdf\n",
    "3. https://scikit-learn.org/stable/modules/model_evaluation.html\n",
    "4. https://www.kaggle.com/rafjaa/resampling-strategies-for-imbalanced-datasets\n",
    "5. https://towardsdatascience.com/solving-a-simple-classification-problem-with-python-fruits-lovers-edition-d20ab6b071d2"
   ]
  },
  {
   "cell_type": "code",
   "execution_count": null,
   "metadata": {},
   "outputs": [],
   "source": []
  }
 ],
 "metadata": {
  "kernelspec": {
   "display_name": "Python 3",
   "language": "python",
   "name": "python3"
  },
  "language_info": {
   "codemirror_mode": {
    "name": "ipython",
    "version": 3
   },
   "file_extension": ".py",
   "mimetype": "text/x-python",
   "name": "python",
   "nbconvert_exporter": "python",
   "pygments_lexer": "ipython3",
   "version": "3.6.5"
  }
 },
 "nbformat": 4,
 "nbformat_minor": 2
}
